{
  "nbformat": 4,
  "nbformat_minor": 0,
  "metadata": {
    "colab": {
      "provenance": []
    },
    "kernelspec": {
      "name": "python3",
      "display_name": "Python 3"
    },
    "language_info": {
      "name": "python"
    }
  },
  "cells": [
    {
      "cell_type": "code",
      "source": [],
      "metadata": {
        "id": "i2NZh8J3Dgq8"
      },
      "execution_count": null,
      "outputs": []
    },
    {
      "cell_type": "code",
      "execution_count": 1,
      "metadata": {
        "colab": {
          "base_uri": "https://localhost:8080/"
        },
        "id": "8SkJloCBBI-x",
        "outputId": "f7c27bd8-b977-4e13-c72d-7353844cd475",
        "collapsed": true
      },
      "outputs": [
        {
          "output_type": "stream",
          "name": "stderr",
          "text": [
            "[nltk_data] Downloading package vader_lexicon to /root/nltk_data...\n"
          ]
        }
      ],
      "source": [
        "import nltk\n",
        "nltk.download('vader_lexicon')\n",
        "from nltk.sentiment.vader import SentimentIntensityAnalyzer\n",
        "sid = SentimentIntensityAnalyzer()\n"
      ]
    },
    {
      "cell_type": "code",
      "source": [
        "def analyze_emotion(text):\n",
        "   sentiment_scores=sid.polarity_scores(text)\n",
        "   if sentiment_scores['compound'] >= 0.05:\n",
        "     sentiment='Positive'\n",
        "   elif sentiment_scores['compound'] <= -0.05:\n",
        "     sentiment='Negative'\n",
        "   else:\n",
        "     sentiment='Neutral'\n",
        "   return sentiment,sentiment_scores\n",
        "example=input(str(\"enter the text\"))\n",
        "result,scores=analyze_emotion(example)\n",
        "print(\"emotion=\",result)\n",
        "print(\"scores=\",scores)\n"
      ],
      "metadata": {
        "id": "3kmz5dkbDlv9",
        "colab": {
          "base_uri": "https://localhost:8080/"
        },
        "outputId": "097a7c7f-bece-41be-fec5-b761d483572a"
      },
      "execution_count": 4,
      "outputs": [
        {
          "output_type": "stream",
          "name": "stdout",
          "text": [
            "enter the texti love python\n",
            "emotion= Positive\n",
            "scores= {'neg': 0.0, 'neu': 0.192, 'pos': 0.808, 'compound': 0.6369}\n"
          ]
        }
      ]
    }
  ]
}